{
 "cells": [
  {
   "cell_type": "markdown",
   "metadata": {},
   "source": [
    "# Survival Analysis\n",
    "## Exploring the effect of patient attributes on the probability of an event happening at a certain time within a hospital"
   ]
  },
  {
   "cell_type": "code",
   "execution_count": 35,
   "metadata": {},
   "outputs": [],
   "source": [
    "import numpy as np\n",
    "import pandas as pd\n",
    "import matplotlib.pyplot as plt\n",
    "import lifelines as sa\n",
    "\n",
    "from pathlib import Path\n",
    "from lifelines import KaplanMeierFitter\n",
    "from lifelines.utils import concordance_index, k_fold_cross_validation\n",
    "from lifelines.plotting import plot_lifetimes\n",
    "from lifelines import CoxPHFitter\n",
    "from ipywidgets import interact"
   ]
  },
  {
   "cell_type": "markdown",
   "metadata": {},
   "source": [
    "## Data\n",
    "All data in this notebook is dummy data, which is the indian liver patinet dataset found here: https://archive.ics.uci.edu/ml/datasets/ILPD+(Indian+Liver+Patient+Dataset) augmented with one dummy categorical feature.\n",
    "\n",
    "Reference: Dua, D. and Graff, C. (2019). UCI Machine Learning Repository [http://archive.ics.uci.edu/ml]. Irvine, CA: University of California, School of Information and Computer Science."
   ]
  },
  {
   "cell_type": "code",
   "execution_count": 4,
   "metadata": {},
   "outputs": [],
   "source": [
    "data_path = 'data/dummy_data.csv'"
   ]
  },
  {
   "cell_type": "code",
   "execution_count": 5,
   "metadata": {},
   "outputs": [],
   "source": [
    "data = pd.read_csv(data_path, index_col=0)"
   ]
  },
  {
   "cell_type": "code",
   "execution_count": 6,
   "metadata": {
    "scrolled": true
   },
   "outputs": [
    {
     "name": "stdout",
     "output_type": "stream",
     "text": [
      "<class 'pandas.core.frame.DataFrame'>\n",
      "Int64Index: 579 entries, 0 to 582\n",
      "Data columns (total 12 columns):\n",
      "age                           579 non-null int64\n",
      "gender                        579 non-null int64\n",
      "total_bilirubin               579 non-null float64\n",
      "direct_bilirubin              579 non-null float64\n",
      "alkaline_phosphotase          579 non-null int64\n",
      "alamine_aminotransferase      579 non-null int64\n",
      "aspartate_aminotransferase    579 non-null int64\n",
      "total_proteins                579 non-null float64\n",
      "albumin                       579 non-null float64\n",
      "albumin_and_globulin_ratio    579 non-null float64\n",
      "liver_patient                 579 non-null int64\n",
      "dummy_category                579 non-null object\n",
      "dtypes: float64(5), int64(6), object(1)\n",
      "memory usage: 58.8+ KB\n"
     ]
    }
   ],
   "source": [
    "data.info()"
   ]
  },
  {
   "cell_type": "markdown",
   "metadata": {},
   "source": [
    "Rename a column in the dummy dataset to create a dummy time-to-event column"
   ]
  },
  {
   "cell_type": "code",
   "execution_count": 10,
   "metadata": {},
   "outputs": [],
   "source": [
    "data.rename(columns={'age': 'time_to_event'}, inplace=True)"
   ]
  },
  {
   "cell_type": "code",
   "execution_count": 11,
   "metadata": {},
   "outputs": [],
   "source": [
    "target_variable = 'time_to_event'  # dummy categorical \n",
    "features = [col for col in data.columns if col is not target_variable]"
   ]
  },
  {
   "cell_type": "code",
   "execution_count": 12,
   "metadata": {},
   "outputs": [
    {
     "data": {
      "text/plain": [
       "['gender',\n",
       " 'total_bilirubin',\n",
       " 'direct_bilirubin',\n",
       " 'alkaline_phosphotase',\n",
       " 'alamine_aminotransferase',\n",
       " 'aspartate_aminotransferase',\n",
       " 'total_proteins',\n",
       " 'albumin',\n",
       " 'albumin_and_globulin_ratio',\n",
       " 'liver_patient',\n",
       " 'dummy_category',\n",
       " 'observed']"
      ]
     },
     "execution_count": 12,
     "metadata": {},
     "output_type": "execute_result"
    }
   ],
   "source": [
    "features"
   ]
  },
  {
   "cell_type": "markdown",
   "metadata": {},
   "source": [
    "All data is observed in this dataset "
   ]
  },
  {
   "cell_type": "code",
   "execution_count": 13,
   "metadata": {},
   "outputs": [],
   "source": [
    "data['observed'] = 1"
   ]
  },
  {
   "cell_type": "code",
   "execution_count": 30,
   "metadata": {},
   "outputs": [
    {
     "data": {
      "image/png": "[encoded data removed]",
      "text/plain": [
       "<Figure size 1080x576 with 1 Axes>"
      ]
     },
     "metadata": {
      "needs_background": "light"
     },
     "output_type": "display_data"
    }
   ],
   "source": [
    "plt.rcParams['figure.figsize'] = 15, 8\n",
    "\n",
    "ax = -1\n",
    "\n",
    "for cat in data['dummy_category'].unique():\n",
    "    kmf = KaplanMeierFitter()\n",
    "    d = data[data['dummy_category']==cat]\n",
    "    kmf.fit(d[target_variable], event_observed=d['observed'], label=cat)\n",
    "    if ax==-1:\n",
    "        ax=kmf.plot(ci_show=False)\n",
    "    else:\n",
    "        kmf.plot(ax=ax, ci_show=False)\n",
    "plt.ylabel('probability of event happening after a given stretch of time')\n",
    "plt.xlabel('time')\n",
    "plt.title('Survival curves split by dummy category labels: curves display the probability of an event \\n' +\n",
    "          'happening after a given time, with data segmented along different categories')\n",
    "plt.grid()\n",
    "plt.show()"
   ]
  },
  {
   "cell_type": "code",
   "execution_count": 17,
   "metadata": {},
   "outputs": [
    {
     "data": {
      "text/plain": [
       "<lifelines.CoxPHFitter: fitted with 579 observations, 0 censored>"
      ]
     },
     "execution_count": 17,
     "metadata": {},
     "output_type": "execute_result"
    }
   ],
   "source": [
    "cpf = CoxPHFitter()\n",
    "cpf.fit(data.drop('dummy_category', axis=1), duration_col='time_to_event', event_col='observed')"
   ]
  },
  {
   "cell_type": "code",
   "execution_count": 18,
   "metadata": {},
   "outputs": [
    {
     "name": "stdout",
     "output_type": "stream",
     "text": [
      "<lifelines.CoxPHFitter: fitted with 579 observations, 0 censored>\n",
      "      duration col = 'time_to_event'\n",
      "         event col = 'observed'\n",
      "number of subjects = 579\n",
      "  number of events = 579\n",
      "partial log-likelihood = -3081.13\n",
      "  time fit was run = 2019-09-22 20:42:38 UTC\n",
      "\n",
      "---\n",
      "                            coef exp(coef)  se(coef)  coef lower 95%  coef upper 95% exp(coef) lower 95% exp(coef) upper 95%\n",
      "gender                     -0.08      0.93      0.10           -0.27            0.12                0.76                1.13\n",
      "total_bilirubin             0.00      1.00      0.01           -0.02            0.03                0.98                1.03\n",
      "direct_bilirubin            0.03      1.03      0.03           -0.03            0.09                0.97                1.10\n",
      "alkaline_phosphotase       -0.00      1.00      0.00           -0.00            0.00                1.00                1.00\n",
      "alamine_aminotransferase    0.00      1.00      0.00            0.00            0.00                1.00                1.00\n",
      "aspartate_aminotransferase -0.00      1.00      0.00           -0.00            0.00                1.00                1.00\n",
      "total_proteins              0.08      1.08      0.10           -0.11            0.26                0.89                1.30\n",
      "albumin                     0.16      1.17      0.18           -0.19            0.50                0.83                1.65\n",
      "albumin_and_globulin_ratio  0.26      1.30      0.27           -0.26            0.78                0.77                2.19\n",
      "liver_patient               0.18      1.20      0.10           -0.02            0.38                0.98                1.46\n",
      "\n",
      "                               z      p  -log2(p)\n",
      "gender                     -0.74   0.46      1.12\n",
      "total_bilirubin             0.23   0.81      0.30\n",
      "direct_bilirubin            1.06   0.29      1.80\n",
      "alkaline_phosphotase       -0.93   0.35      1.49\n",
      "alamine_aminotransferase    3.54 <0.005     11.31\n",
      "aspartate_aminotransferase -1.68   0.09      3.44\n",
      "total_proteins              0.79   0.43      1.23\n",
      "albumin                     0.88   0.38      1.39\n",
      "albumin_and_globulin_ratio  0.98   0.33      1.60\n",
      "liver_patient               1.77   0.08      3.71\n",
      "---\n",
      "Concordance = 0.60\n",
      "Log-likelihood ratio test = 54.33 on 10 df, -log2(p)=24.50\n"
     ]
    }
   ],
   "source": [
    "cpf.print_summary()"
   ]
  },
  {
   "cell_type": "code",
   "execution_count": 34,
   "metadata": {},
   "outputs": [
    {
     "data": {
      "image/png": "[encoded data removed]",
      "text/plain": [
       "<Figure size 1080x576 with 1 Axes>"
      ]
     },
     "metadata": {
      "needs_background": "light"
     },
     "output_type": "display_data"
    }
   ],
   "source": [
    "(cpf.summary[['exp(coef)']] - 1).sort_values('exp(coef)').plot.barh()\n",
    "plt.title('Effect of variables on the chance of an event happening at a given time (fractional increase). All compared to baseline model')\n",
    "plt.show()"
   ]
  },
  {
   "cell_type": "markdown",
   "metadata": {},
   "source": [
    "Use interact with this"
   ]
  },
  {
   "cell_type": "code",
   "execution_count": 44,
   "metadata": {
    "scrolled": false
   },
   "outputs": [
    {
     "data": {
      "application/vnd.jupyter.widget-view+json": {
       "model_id": "d16977b2cfc2464fb7745be7dc5fbdc5",
       "version_major": 2,
       "version_minor": 0
      },
      "text/plain": [
       "interactive(children=(Dropdown(description='variable_to_investigate', options=('gender', 'total_bilirubin', 'd…"
      ]
     },
     "metadata": {},
     "output_type": "display_data"
    },
    {
     "data": {
      "text/plain": [
       "<function __main__.compare_effect_of_different_variables_on_time_to_event(variable_to_investigate)>"
      ]
     },
     "execution_count": 44,
     "metadata": {},
     "output_type": "execute_result"
    }
   ],
   "source": [
    "vars_to_isolate = data.drop(['dummy_category', 'time_to_event', 'observed'], axis=1).columns.values\n",
    "\n",
    "def compare_effect_of_different_variables_on_time_to_event(variable_to_investigate):\n",
    "    if len(data[variable_to_investigate].unique()) == 2:\n",
    "        range_of_values = [0, 1]\n",
    "    else:\n",
    "        range_of_values = np.arange(data[variable_to_investigate].min(), data[variable_to_investigate].max(), \n",
    "                                    (data[variable_to_investigate].max()-data[variable_to_investigate].min())/5)\n",
    "    cpf.plot_covariate_groups(variable_to_investigate, range_of_values)\n",
    "    plt.ylabel('probability of event happening after a given stretch of time')\n",
    "    plt.xlabel('time')\n",
    "    plt.title(f'Survival curves for different values of {variable_to_investigate}')\n",
    "    plt.show()\n",
    "    \n",
    "interact(compare_effect_of_different_variables_on_time_to_event, \n",
    "         variable_to_investigate=vars_to_isolate)"
   ]
  },
  {
   "cell_type": "code",
   "execution_count": null,
   "metadata": {},
   "outputs": [],
   "source": []
  }
 ],
 "metadata": {
  "kernelspec": {
   "display_name": "Python 3",
   "language": "python",
   "name": "python3"
  }
 },
 "nbformat": 4,
 "nbformat_minor": 2
}
