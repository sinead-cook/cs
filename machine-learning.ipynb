{
 "cells": [
  {
   "cell_type": "markdown",
   "metadata": {},
   "source": [
    "# Predicting Patient Attributes"
   ]
  },
  {
   "cell_type": "code",
   "execution_count": 4,
   "metadata": {},
   "outputs": [],
   "source": [
    "import pandas as pd\n",
    "import numpy as np\n",
    "from sklearn import linear_model\n",
    "from sklearn.metrics import mean_squared_error, r2_score, mean_absolute_error, confusion_matrix, accuracy_score\n",
    "from sklearn.model_selection import cross_validate, StratifiedKFold\n",
    "import matplotlib.pyplot as plt\n",
    "from ipywidgets import interact"
   ]
  },
  {
   "cell_type": "markdown",
   "metadata": {},
   "source": [
    "## Data\n",
    "All data in this notebook is dummy data, which is the indian liver patinet dataset found here: https://archive.ics.uci.edu/ml/datasets/ILPD+(Indian+Liver+Patient+Dataset) augmented with one dummy categorical feature.\n",
    "\n",
    "Reference: Dua, D. and Graff, C. (2019). UCI Machine Learning Repository [http://archive.ics.uci.edu/ml]. Irvine, CA: University of California, School of Information and Computer Science."
   ]
  },
  {
   "cell_type": "code",
   "execution_count": 7,
   "metadata": {},
   "outputs": [],
   "source": [
    "data_path = 'data/dummy_data.csv'"
   ]
  },
  {
   "cell_type": "code",
   "execution_count": 8,
   "metadata": {},
   "outputs": [],
   "source": [
    "data = pd.read_csv(data_path, index_col=0)"
   ]
  },
  {
   "cell_type": "code",
   "execution_count": 9,
   "metadata": {},
   "outputs": [
    {
     "name": "stdout",
     "output_type": "stream",
     "text": [
      "<class 'pandas.core.frame.DataFrame'>\n",
      "Int64Index: 579 entries, 0 to 582\n",
      "Data columns (total 12 columns):\n",
      "age                           579 non-null int64\n",
      "gender                        579 non-null int64\n",
      "total_bilirubin               579 non-null float64\n",
      "direct_bilirubin              579 non-null float64\n",
      "alkaline_phosphotase          579 non-null int64\n",
      "alamine_aminotransferase      579 non-null int64\n",
      "aspartate_aminotransferase    579 non-null int64\n",
      "total_proteins                579 non-null float64\n",
      "albumin                       579 non-null float64\n",
      "albumin_and_globulin_ratio    579 non-null float64\n",
      "liver_patient                 579 non-null int64\n",
      "dummy_category                579 non-null object\n",
      "dtypes: float64(5), int64(6), object(1)\n",
      "memory usage: 58.8+ KB\n"
     ]
    }
   ],
   "source": [
    "data.info()"
   ]
  },
  {
   "cell_type": "code",
   "execution_count": 10,
   "metadata": {},
   "outputs": [
    {
     "data": {
      "text/html": [
       "<div>\n",
       "<style scoped>\n",
       "    .dataframe tbody tr th:only-of-type {\n",
       "        vertical-align: middle;\n",
       "    }\n",
       "\n",
       "    .dataframe tbody tr th {\n",
       "        vertical-align: top;\n",
       "    }\n",
       "\n",
       "    .dataframe thead th {\n",
       "        text-align: right;\n",
       "    }\n",
       "</style>\n",
       "<table border=\"1\" class=\"dataframe\">\n",
       "  <thead>\n",
       "    <tr style=\"text-align: right;\">\n",
       "      <th></th>\n",
       "      <th>age</th>\n",
       "      <th>gender</th>\n",
       "      <th>total_bilirubin</th>\n",
       "      <th>direct_bilirubin</th>\n",
       "      <th>alkaline_phosphotase</th>\n",
       "      <th>alamine_aminotransferase</th>\n",
       "      <th>aspartate_aminotransferase</th>\n",
       "      <th>total_proteins</th>\n",
       "      <th>albumin</th>\n",
       "      <th>albumin_and_globulin_ratio</th>\n",
       "      <th>liver_patient</th>\n",
       "    </tr>\n",
       "  </thead>\n",
       "  <tbody>\n",
       "    <tr>\n",
       "      <td>count</td>\n",
       "      <td>579.000000</td>\n",
       "      <td>579.000000</td>\n",
       "      <td>579.000000</td>\n",
       "      <td>579.000000</td>\n",
       "      <td>579.000000</td>\n",
       "      <td>579.000000</td>\n",
       "      <td>579.000000</td>\n",
       "      <td>579.000000</td>\n",
       "      <td>579.000000</td>\n",
       "      <td>579.000000</td>\n",
       "      <td>579.000000</td>\n",
       "    </tr>\n",
       "    <tr>\n",
       "      <td>mean</td>\n",
       "      <td>44.782383</td>\n",
       "      <td>0.758204</td>\n",
       "      <td>3.315371</td>\n",
       "      <td>1.494128</td>\n",
       "      <td>291.366149</td>\n",
       "      <td>81.126079</td>\n",
       "      <td>110.414508</td>\n",
       "      <td>6.481693</td>\n",
       "      <td>3.138515</td>\n",
       "      <td>0.947064</td>\n",
       "      <td>1.284974</td>\n",
       "    </tr>\n",
       "    <tr>\n",
       "      <td>std</td>\n",
       "      <td>16.221786</td>\n",
       "      <td>0.428542</td>\n",
       "      <td>6.227716</td>\n",
       "      <td>2.816499</td>\n",
       "      <td>243.561863</td>\n",
       "      <td>183.182845</td>\n",
       "      <td>289.850034</td>\n",
       "      <td>1.084641</td>\n",
       "      <td>0.794435</td>\n",
       "      <td>0.319592</td>\n",
       "      <td>0.451792</td>\n",
       "    </tr>\n",
       "    <tr>\n",
       "      <td>min</td>\n",
       "      <td>4.000000</td>\n",
       "      <td>0.000000</td>\n",
       "      <td>0.400000</td>\n",
       "      <td>0.100000</td>\n",
       "      <td>63.000000</td>\n",
       "      <td>10.000000</td>\n",
       "      <td>10.000000</td>\n",
       "      <td>2.700000</td>\n",
       "      <td>0.900000</td>\n",
       "      <td>0.300000</td>\n",
       "      <td>1.000000</td>\n",
       "    </tr>\n",
       "    <tr>\n",
       "      <td>25%</td>\n",
       "      <td>33.000000</td>\n",
       "      <td>1.000000</td>\n",
       "      <td>0.800000</td>\n",
       "      <td>0.200000</td>\n",
       "      <td>175.500000</td>\n",
       "      <td>23.000000</td>\n",
       "      <td>25.000000</td>\n",
       "      <td>5.800000</td>\n",
       "      <td>2.600000</td>\n",
       "      <td>0.700000</td>\n",
       "      <td>1.000000</td>\n",
       "    </tr>\n",
       "    <tr>\n",
       "      <td>50%</td>\n",
       "      <td>45.000000</td>\n",
       "      <td>1.000000</td>\n",
       "      <td>1.000000</td>\n",
       "      <td>0.300000</td>\n",
       "      <td>208.000000</td>\n",
       "      <td>35.000000</td>\n",
       "      <td>42.000000</td>\n",
       "      <td>6.600000</td>\n",
       "      <td>3.100000</td>\n",
       "      <td>0.930000</td>\n",
       "      <td>1.000000</td>\n",
       "    </tr>\n",
       "    <tr>\n",
       "      <td>75%</td>\n",
       "      <td>58.000000</td>\n",
       "      <td>1.000000</td>\n",
       "      <td>2.600000</td>\n",
       "      <td>1.300000</td>\n",
       "      <td>298.000000</td>\n",
       "      <td>61.000000</td>\n",
       "      <td>87.000000</td>\n",
       "      <td>7.200000</td>\n",
       "      <td>3.800000</td>\n",
       "      <td>1.100000</td>\n",
       "      <td>2.000000</td>\n",
       "    </tr>\n",
       "    <tr>\n",
       "      <td>max</td>\n",
       "      <td>90.000000</td>\n",
       "      <td>1.000000</td>\n",
       "      <td>75.000000</td>\n",
       "      <td>19.700000</td>\n",
       "      <td>2110.000000</td>\n",
       "      <td>2000.000000</td>\n",
       "      <td>4929.000000</td>\n",
       "      <td>9.600000</td>\n",
       "      <td>5.500000</td>\n",
       "      <td>2.800000</td>\n",
       "      <td>2.000000</td>\n",
       "    </tr>\n",
       "  </tbody>\n",
       "</table>\n",
       "</div>"
      ],
      "text/plain": [
       "              age      gender  total_bilirubin  direct_bilirubin  \\\n",
       "count  579.000000  579.000000       579.000000        579.000000   \n",
       "mean    44.782383    0.758204         3.315371          1.494128   \n",
       "std     16.221786    0.428542         6.227716          2.816499   \n",
       "min      4.000000    0.000000         0.400000          0.100000   \n",
       "25%     33.000000    1.000000         0.800000          0.200000   \n",
       "50%     45.000000    1.000000         1.000000          0.300000   \n",
       "75%     58.000000    1.000000         2.600000          1.300000   \n",
       "max     90.000000    1.000000        75.000000         19.700000   \n",
       "\n",
       "       alkaline_phosphotase  alamine_aminotransferase  \\\n",
       "count            579.000000                579.000000   \n",
       "mean             291.366149                 81.126079   \n",
       "std              243.561863                183.182845   \n",
       "min               63.000000                 10.000000   \n",
       "25%              175.500000                 23.000000   \n",
       "50%              208.000000                 35.000000   \n",
       "75%              298.000000                 61.000000   \n",
       "max             2110.000000               2000.000000   \n",
       "\n",
       "       aspartate_aminotransferase  total_proteins     albumin  \\\n",
       "count                  579.000000      579.000000  579.000000   \n",
       "mean                   110.414508        6.481693    3.138515   \n",
       "std                    289.850034        1.084641    0.794435   \n",
       "min                     10.000000        2.700000    0.900000   \n",
       "25%                     25.000000        5.800000    2.600000   \n",
       "50%                     42.000000        6.600000    3.100000   \n",
       "75%                     87.000000        7.200000    3.800000   \n",
       "max                   4929.000000        9.600000    5.500000   \n",
       "\n",
       "       albumin_and_globulin_ratio  liver_patient  \n",
       "count                  579.000000     579.000000  \n",
       "mean                     0.947064       1.284974  \n",
       "std                      0.319592       0.451792  \n",
       "min                      0.300000       1.000000  \n",
       "25%                      0.700000       1.000000  \n",
       "50%                      0.930000       1.000000  \n",
       "75%                      1.100000       2.000000  \n",
       "max                      2.800000       2.000000  "
      ]
     },
     "execution_count": 10,
     "metadata": {},
     "output_type": "execute_result"
    }
   ],
   "source": [
    "data.describe()"
   ]
  },
  {
   "cell_type": "code",
   "execution_count": 11,
   "metadata": {},
   "outputs": [
    {
     "data": {
      "text/html": [
       "<div>\n",
       "<style scoped>\n",
       "    .dataframe tbody tr th:only-of-type {\n",
       "        vertical-align: middle;\n",
       "    }\n",
       "\n",
       "    .dataframe tbody tr th {\n",
       "        vertical-align: top;\n",
       "    }\n",
       "\n",
       "    .dataframe thead th {\n",
       "        text-align: right;\n",
       "    }\n",
       "</style>\n",
       "<table border=\"1\" class=\"dataframe\">\n",
       "  <thead>\n",
       "    <tr style=\"text-align: right;\">\n",
       "      <th></th>\n",
       "      <th>age</th>\n",
       "      <th>gender</th>\n",
       "      <th>total_bilirubin</th>\n",
       "      <th>direct_bilirubin</th>\n",
       "      <th>alkaline_phosphotase</th>\n",
       "      <th>alamine_aminotransferase</th>\n",
       "      <th>aspartate_aminotransferase</th>\n",
       "      <th>total_proteins</th>\n",
       "      <th>albumin</th>\n",
       "      <th>albumin_and_globulin_ratio</th>\n",
       "      <th>liver_patient</th>\n",
       "    </tr>\n",
       "  </thead>\n",
       "  <tbody>\n",
       "    <tr>\n",
       "      <td>age</td>\n",
       "      <td>1.000000</td>\n",
       "      <td>0.055881</td>\n",
       "      <td>0.011000</td>\n",
       "      <td>0.006784</td>\n",
       "      <td>0.078878</td>\n",
       "      <td>-0.087799</td>\n",
       "      <td>-0.020499</td>\n",
       "      <td>-0.186248</td>\n",
       "      <td>-0.264211</td>\n",
       "      <td>-0.216408</td>\n",
       "      <td>-0.133164</td>\n",
       "    </tr>\n",
       "    <tr>\n",
       "      <td>gender</td>\n",
       "      <td>0.055881</td>\n",
       "      <td>1.000000</td>\n",
       "      <td>0.088068</td>\n",
       "      <td>0.099160</td>\n",
       "      <td>-0.029368</td>\n",
       "      <td>0.081339</td>\n",
       "      <td>0.079421</td>\n",
       "      <td>-0.095149</td>\n",
       "      <td>-0.095579</td>\n",
       "      <td>-0.003424</td>\n",
       "      <td>-0.081349</td>\n",
       "    </tr>\n",
       "    <tr>\n",
       "      <td>total_bilirubin</td>\n",
       "      <td>0.011000</td>\n",
       "      <td>0.088068</td>\n",
       "      <td>1.000000</td>\n",
       "      <td>0.874481</td>\n",
       "      <td>0.205739</td>\n",
       "      <td>0.213375</td>\n",
       "      <td>0.237323</td>\n",
       "      <td>-0.007906</td>\n",
       "      <td>-0.222087</td>\n",
       "      <td>-0.206267</td>\n",
       "      <td>-0.220218</td>\n",
       "    </tr>\n",
       "    <tr>\n",
       "      <td>direct_bilirubin</td>\n",
       "      <td>0.006784</td>\n",
       "      <td>0.099160</td>\n",
       "      <td>0.874481</td>\n",
       "      <td>1.000000</td>\n",
       "      <td>0.234008</td>\n",
       "      <td>0.233180</td>\n",
       "      <td>0.257022</td>\n",
       "      <td>0.000033</td>\n",
       "      <td>-0.228409</td>\n",
       "      <td>-0.200125</td>\n",
       "      <td>-0.246273</td>\n",
       "    </tr>\n",
       "    <tr>\n",
       "      <td>alkaline_phosphotase</td>\n",
       "      <td>0.078878</td>\n",
       "      <td>-0.029368</td>\n",
       "      <td>0.205739</td>\n",
       "      <td>0.234008</td>\n",
       "      <td>1.000000</td>\n",
       "      <td>0.124777</td>\n",
       "      <td>0.166580</td>\n",
       "      <td>-0.027062</td>\n",
       "      <td>-0.163419</td>\n",
       "      <td>-0.234166</td>\n",
       "      <td>-0.183363</td>\n",
       "    </tr>\n",
       "    <tr>\n",
       "      <td>alamine_aminotransferase</td>\n",
       "      <td>-0.087799</td>\n",
       "      <td>0.081339</td>\n",
       "      <td>0.213375</td>\n",
       "      <td>0.233180</td>\n",
       "      <td>0.124777</td>\n",
       "      <td>1.000000</td>\n",
       "      <td>0.791862</td>\n",
       "      <td>-0.042432</td>\n",
       "      <td>-0.028658</td>\n",
       "      <td>-0.002375</td>\n",
       "      <td>-0.163117</td>\n",
       "    </tr>\n",
       "    <tr>\n",
       "      <td>aspartate_aminotransferase</td>\n",
       "      <td>-0.020499</td>\n",
       "      <td>0.079421</td>\n",
       "      <td>0.237323</td>\n",
       "      <td>0.257022</td>\n",
       "      <td>0.166580</td>\n",
       "      <td>0.791862</td>\n",
       "      <td>1.000000</td>\n",
       "      <td>-0.025751</td>\n",
       "      <td>-0.084915</td>\n",
       "      <td>-0.070040</td>\n",
       "      <td>-0.151834</td>\n",
       "    </tr>\n",
       "    <tr>\n",
       "      <td>total_proteins</td>\n",
       "      <td>-0.186248</td>\n",
       "      <td>-0.095149</td>\n",
       "      <td>-0.007906</td>\n",
       "      <td>0.000033</td>\n",
       "      <td>-0.027062</td>\n",
       "      <td>-0.042432</td>\n",
       "      <td>-0.025751</td>\n",
       "      <td>1.000000</td>\n",
       "      <td>0.783112</td>\n",
       "      <td>0.234887</td>\n",
       "      <td>0.033614</td>\n",
       "    </tr>\n",
       "    <tr>\n",
       "      <td>albumin</td>\n",
       "      <td>-0.264211</td>\n",
       "      <td>-0.095579</td>\n",
       "      <td>-0.222087</td>\n",
       "      <td>-0.228409</td>\n",
       "      <td>-0.163419</td>\n",
       "      <td>-0.028658</td>\n",
       "      <td>-0.084915</td>\n",
       "      <td>0.783112</td>\n",
       "      <td>1.000000</td>\n",
       "      <td>0.689632</td>\n",
       "      <td>0.159770</td>\n",
       "    </tr>\n",
       "    <tr>\n",
       "      <td>albumin_and_globulin_ratio</td>\n",
       "      <td>-0.216408</td>\n",
       "      <td>-0.003424</td>\n",
       "      <td>-0.206267</td>\n",
       "      <td>-0.200125</td>\n",
       "      <td>-0.234166</td>\n",
       "      <td>-0.002375</td>\n",
       "      <td>-0.070040</td>\n",
       "      <td>0.234887</td>\n",
       "      <td>0.689632</td>\n",
       "      <td>1.000000</td>\n",
       "      <td>0.163131</td>\n",
       "    </tr>\n",
       "    <tr>\n",
       "      <td>liver_patient</td>\n",
       "      <td>-0.133164</td>\n",
       "      <td>-0.081349</td>\n",
       "      <td>-0.220218</td>\n",
       "      <td>-0.246273</td>\n",
       "      <td>-0.183363</td>\n",
       "      <td>-0.163117</td>\n",
       "      <td>-0.151834</td>\n",
       "      <td>0.033614</td>\n",
       "      <td>0.159770</td>\n",
       "      <td>0.163131</td>\n",
       "      <td>1.000000</td>\n",
       "    </tr>\n",
       "  </tbody>\n",
       "</table>\n",
       "</div>"
      ],
      "text/plain": [
       "                                 age    gender  total_bilirubin  \\\n",
       "age                         1.000000  0.055881         0.011000   \n",
       "gender                      0.055881  1.000000         0.088068   \n",
       "total_bilirubin             0.011000  0.088068         1.000000   \n",
       "direct_bilirubin            0.006784  0.099160         0.874481   \n",
       "alkaline_phosphotase        0.078878 -0.029368         0.205739   \n",
       "alamine_aminotransferase   -0.087799  0.081339         0.213375   \n",
       "aspartate_aminotransferase -0.020499  0.079421         0.237323   \n",
       "total_proteins             -0.186248 -0.095149        -0.007906   \n",
       "albumin                    -0.264211 -0.095579        -0.222087   \n",
       "albumin_and_globulin_ratio -0.216408 -0.003424        -0.206267   \n",
       "liver_patient              -0.133164 -0.081349        -0.220218   \n",
       "\n",
       "                            direct_bilirubin  alkaline_phosphotase  \\\n",
       "age                                 0.006784              0.078878   \n",
       "gender                              0.099160             -0.029368   \n",
       "total_bilirubin                     0.874481              0.205739   \n",
       "direct_bilirubin                    1.000000              0.234008   \n",
       "alkaline_phosphotase                0.234008              1.000000   \n",
       "alamine_aminotransferase            0.233180              0.124777   \n",
       "aspartate_aminotransferase          0.257022              0.166580   \n",
       "total_proteins                      0.000033             -0.027062   \n",
       "albumin                            -0.228409             -0.163419   \n",
       "albumin_and_globulin_ratio         -0.200125             -0.234166   \n",
       "liver_patient                      -0.246273             -0.183363   \n",
       "\n",
       "                            alamine_aminotransferase  \\\n",
       "age                                        -0.087799   \n",
       "gender                                      0.081339   \n",
       "total_bilirubin                             0.213375   \n",
       "direct_bilirubin                            0.233180   \n",
       "alkaline_phosphotase                        0.124777   \n",
       "alamine_aminotransferase                    1.000000   \n",
       "aspartate_aminotransferase                  0.791862   \n",
       "total_proteins                             -0.042432   \n",
       "albumin                                    -0.028658   \n",
       "albumin_and_globulin_ratio                 -0.002375   \n",
       "liver_patient                              -0.163117   \n",
       "\n",
       "                            aspartate_aminotransferase  total_proteins  \\\n",
       "age                                          -0.020499       -0.186248   \n",
       "gender                                        0.079421       -0.095149   \n",
       "total_bilirubin                               0.237323       -0.007906   \n",
       "direct_bilirubin                              0.257022        0.000033   \n",
       "alkaline_phosphotase                          0.166580       -0.027062   \n",
       "alamine_aminotransferase                      0.791862       -0.042432   \n",
       "aspartate_aminotransferase                    1.000000       -0.025751   \n",
       "total_proteins                               -0.025751        1.000000   \n",
       "albumin                                      -0.084915        0.783112   \n",
       "albumin_and_globulin_ratio                   -0.070040        0.234887   \n",
       "liver_patient                                -0.151834        0.033614   \n",
       "\n",
       "                             albumin  albumin_and_globulin_ratio  \\\n",
       "age                        -0.264211                   -0.216408   \n",
       "gender                     -0.095579                   -0.003424   \n",
       "total_bilirubin            -0.222087                   -0.206267   \n",
       "direct_bilirubin           -0.228409                   -0.200125   \n",
       "alkaline_phosphotase       -0.163419                   -0.234166   \n",
       "alamine_aminotransferase   -0.028658                   -0.002375   \n",
       "aspartate_aminotransferase -0.084915                   -0.070040   \n",
       "total_proteins              0.783112                    0.234887   \n",
       "albumin                     1.000000                    0.689632   \n",
       "albumin_and_globulin_ratio  0.689632                    1.000000   \n",
       "liver_patient               0.159770                    0.163131   \n",
       "\n",
       "                            liver_patient  \n",
       "age                             -0.133164  \n",
       "gender                          -0.081349  \n",
       "total_bilirubin                 -0.220218  \n",
       "direct_bilirubin                -0.246273  \n",
       "alkaline_phosphotase            -0.183363  \n",
       "alamine_aminotransferase        -0.163117  \n",
       "aspartate_aminotransferase      -0.151834  \n",
       "total_proteins                   0.033614  \n",
       "albumin                          0.159770  \n",
       "albumin_and_globulin_ratio       0.163131  \n",
       "liver_patient                    1.000000  "
      ]
     },
     "execution_count": 11,
     "metadata": {},
     "output_type": "execute_result"
    }
   ],
   "source": [
    "data.corr()"
   ]
  },
  {
   "cell_type": "code",
   "execution_count": 14,
   "metadata": {},
   "outputs": [],
   "source": [
    "target_variable = 'age'  # regression y variable chosen for this dummy example"
   ]
  },
  {
   "cell_type": "markdown",
   "metadata": {},
   "source": [
    "## Feature Scaling"
   ]
  },
  {
   "cell_type": "code",
   "execution_count": 15,
   "metadata": {},
   "outputs": [],
   "source": [
    "sds = data.std()\n",
    "for col in sds.index.drop([target_variable, 'liver_patient']):\n",
    "    data[col] /= sds[col]"
   ]
  },
  {
   "cell_type": "markdown",
   "metadata": {},
   "source": [
    "## Modelling"
   ]
  },
  {
   "cell_type": "code",
   "execution_count": 16,
   "metadata": {},
   "outputs": [],
   "source": [
    "from sklearn.neural_network import MLPRegressor\n",
    "from sklearn.neighbors import KNeighborsRegressor\n",
    "from sklearn.gaussian_process import GaussianProcessRegressor\n",
    "from sklearn.svm import SVR\n",
    "from sklearn.linear_model import BayesianRidge, ElasticNet, Lasso\n",
    "from sklearn.ensemble import RandomForestRegressor"
   ]
  },
  {
   "cell_type": "code",
   "execution_count": 17,
   "metadata": {},
   "outputs": [],
   "source": [
    "models = [MLPRegressor(), KNeighborsRegressor(), GaussianProcessRegressor(), SVR(), BayesianRidge(), ElasticNet(), \n",
    "          Lasso(), RandomForestRegressor()]  # models to compare against each other"
   ]
  },
  {
   "cell_type": "markdown",
   "metadata": {},
   "source": [
    "### Ignore Warnings for Demo"
   ]
  },
  {
   "cell_type": "code",
   "execution_count": 18,
   "metadata": {},
   "outputs": [],
   "source": [
    "import warnings\n",
    "warnings.simplefilter('ignore')"
   ]
  },
  {
   "cell_type": "markdown",
   "metadata": {},
   "source": [
    "Split the dataset along categories. For each subdatset, compare all the performance of algorithms. For this example, the dummy categorical variable is used to segment the dataset."
   ]
  },
  {
   "cell_type": "code",
   "execution_count": 19,
   "metadata": {},
   "outputs": [],
   "source": [
    "df_preds = pd.DataFrame()\n",
    "\n",
    "scores = []\n",
    "preds = []\n",
    "\n",
    "model_id = -1\n",
    "\n",
    "for cat in data.dummy_category.unique():  # train a unique algorithm on each subdataset\n",
    "    \n",
    "    df_Xy = data[data.dummy_category==cat].drop('dummy_category', axis=1)\n",
    "    \n",
    "    n_folds = 3\n",
    "    skf = StratifiedKFold(n_splits=n_folds, shuffle=True)\n",
    "    kfold_indices = list(skf.split(X=df_Xy, \n",
    "                                   y=df_Xy['liver_patient']))\n",
    "    \n",
    "    for model in models:\n",
    "        model_id += 1\n",
    "        for ifold in range(len(kfold_indices)):\n",
    "            train_indices, test_indices = kfold_indices[ifold]\n",
    "            df_train, df_test = df_Xy.iloc[train_indices], df_Xy.iloc[test_indices].copy()\n",
    "            \n",
    "            X, y = df_train.drop(target_variable, axis=1), df_train[target_variable]\n",
    "            X_test, y_test = df_test.drop([target_variable], axis=1), df_test[target_variable]\n",
    "\n",
    "            model = model.fit(X, y)\n",
    "            \n",
    "            pred = model.predict(X_test).clip(0)  # age cannot be negative\n",
    "\n",
    "            score = {'model': type(model).__name__, 'model_id': model_id, 'fold': ifold, \n",
    "                     'RMSE': mean_squared_error(y_test, pred)**0.5, 'MAE': mean_absolute_error(y_test, pred), \n",
    "                     'r2': r2_score(y_test, pred), 'category': cat}\n",
    "            \n",
    "            df_pred = X_test.copy()\n",
    "            df_pred[f'predId{model_id}Fold{ifold}'] = pred\n",
    "            df_preds = df_preds.join(df_pred[[f'predId{model_id}Fold{ifold}']], how='outer')\n",
    "            scores.append(score)"
   ]
  },
  {
   "cell_type": "markdown",
   "metadata": {},
   "source": [
    "## Process Results"
   ]
  },
  {
   "cell_type": "code",
   "execution_count": 20,
   "metadata": {},
   "outputs": [],
   "source": [
    "df_results = pd.DataFrame(scores).set_index('category')\n",
    "df_results['model'] = df_results['model'].astype(str)"
   ]
  },
  {
   "cell_type": "markdown",
   "metadata": {},
   "source": [
    "### Display all results for one subdataset (split along the categories)"
   ]
  },
  {
   "cell_type": "code",
   "execution_count": 23,
   "metadata": {},
   "outputs": [
    {
     "data": {
      "application/vnd.jupyter.widget-view+json": {
       "model_id": "d4af184fc6c54a97a4379e5709f231d9",
       "version_major": 2,
       "version_minor": 0
      },
      "text/plain": [
       "interactive(children=(Dropdown(description='category', options=('orange', 'yellow', 'red'), value='orange'), O…"
      ]
     },
     "metadata": {},
     "output_type": "display_data"
    },
    {
     "data": {
      "text/plain": [
       "<function __main__.display_results_for_one_category(category)>"
      ]
     },
     "execution_count": 23,
     "metadata": {},
     "output_type": "execute_result"
    }
   ],
   "source": [
    "def display_results_for_one_category(category):\n",
    "    display(df_results.loc[category])\n",
    "interact(display_results_for_one_category, category=df_results.index.unique().values)"
   ]
  },
  {
   "cell_type": "code",
   "execution_count": 24,
   "metadata": {},
   "outputs": [],
   "source": [
    "mae_fold_mean = df_results.groupby('model_id').MAE.mean()\n",
    "r2_fold_mean = df_results.groupby('model_id').r2.mean()\n",
    "RMSE_fold_mean = df_results.groupby('model_id').RMSE.mean()"
   ]
  },
  {
   "cell_type": "code",
   "execution_count": 25,
   "metadata": {},
   "outputs": [],
   "source": [
    "df_results['MAE_fold_mean'] = df_results.model_id.map(mae_fold_mean)\n",
    "df_results['r2_fold_mean'] = df_results.model_id.map(r2_fold_mean)\n",
    "df_results['RMSE_fold_mean'] = df_results.model_id.map(RMSE_fold_mean)"
   ]
  },
  {
   "cell_type": "markdown",
   "metadata": {},
   "source": [
    "## Compare the performance of algorithms across all data"
   ]
  },
  {
   "cell_type": "code",
   "execution_count": 26,
   "metadata": {},
   "outputs": [],
   "source": [
    "df_results_means = df_results[['model_id', 'model', 'MAE_fold_mean', \n",
    "                               'r2_fold_mean', 'RMSE_fold_mean']].reset_index().groupby('model_id').first()"
   ]
  },
  {
   "cell_type": "code",
   "execution_count": 27,
   "metadata": {},
   "outputs": [
    {
     "data": {
      "application/vnd.jupyter.widget-view+json": {
       "model_id": "0d2603857f854a638d2b1f1b3547bcf4",
       "version_major": 2,
       "version_minor": 0
      },
      "text/plain": [
       "interactive(children=(Dropdown(description='metric', options=('MAE', 'r2', 'RMSE'), value='MAE'), Output()), _…"
      ]
     },
     "metadata": {},
     "output_type": "display_data"
    },
    {
     "data": {
      "text/plain": [
       "<function __main__.compare_algorithms_for_different_metrics(metric)>"
      ]
     },
     "execution_count": 27,
     "metadata": {},
     "output_type": "execute_result"
    }
   ],
   "source": [
    "def compare_algorithms_for_different_metrics(metric):\n",
    "    df_plot = df_results_means.pivot(index='model', columns='category', values=metric+'_fold_mean')\n",
    "    df_plot.plot.bar(figsize=(15, 8), stacked=False)\n",
    "    plt.ylabel(metric)\n",
    "    plt.show()\n",
    "interact(compare_algorithms_for_different_metrics, metric=['MAE', 'r2', 'RMSE'])"
   ]
  },
  {
   "cell_type": "markdown",
   "metadata": {},
   "source": [
    "## Best Results and Model Per Category"
   ]
  },
  {
   "cell_type": "code",
   "execution_count": 28,
   "metadata": {},
   "outputs": [
    {
     "data": {
      "text/html": [
       "<div>\n",
       "<style scoped>\n",
       "    .dataframe tbody tr th:only-of-type {\n",
       "        vertical-align: middle;\n",
       "    }\n",
       "\n",
       "    .dataframe tbody tr th {\n",
       "        vertical-align: top;\n",
       "    }\n",
       "\n",
       "    .dataframe thead th {\n",
       "        text-align: right;\n",
       "    }\n",
       "</style>\n",
       "<table border=\"1\" class=\"dataframe\">\n",
       "  <thead>\n",
       "    <tr style=\"text-align: right;\">\n",
       "      <th></th>\n",
       "      <th>model</th>\n",
       "      <th>MAE_fold_mean</th>\n",
       "      <th>r2_fold_mean</th>\n",
       "      <th>RMSE_fold_mean</th>\n",
       "    </tr>\n",
       "    <tr>\n",
       "      <th>category</th>\n",
       "      <th></th>\n",
       "      <th></th>\n",
       "      <th></th>\n",
       "      <th></th>\n",
       "    </tr>\n",
       "  </thead>\n",
       "  <tbody>\n",
       "    <tr>\n",
       "      <td>orange</td>\n",
       "      <td>BayesianRidge</td>\n",
       "      <td>13.127314</td>\n",
       "      <td>-0.003182</td>\n",
       "      <td>15.992155</td>\n",
       "    </tr>\n",
       "    <tr>\n",
       "      <td>red</td>\n",
       "      <td>ElasticNet</td>\n",
       "      <td>12.839579</td>\n",
       "      <td>-0.079034</td>\n",
       "      <td>15.783508</td>\n",
       "    </tr>\n",
       "    <tr>\n",
       "      <td>yellow</td>\n",
       "      <td>Lasso</td>\n",
       "      <td>12.757720</td>\n",
       "      <td>0.100933</td>\n",
       "      <td>15.590587</td>\n",
       "    </tr>\n",
       "  </tbody>\n",
       "</table>\n",
       "</div>"
      ],
      "text/plain": [
       "                  model  MAE_fold_mean  r2_fold_mean  RMSE_fold_mean\n",
       "category                                                            \n",
       "orange    BayesianRidge      13.127314     -0.003182       15.992155\n",
       "red          ElasticNet      12.839579     -0.079034       15.783508\n",
       "yellow            Lasso      12.757720      0.100933       15.590587"
      ]
     },
     "execution_count": 28,
     "metadata": {},
     "output_type": "execute_result"
    }
   ],
   "source": [
    "df_results.sort_values('MAE_fold_mean', ascending=True).groupby('category').first()[['model', 'MAE_fold_mean',\n",
    "                                                                                    'r2_fold_mean', 'RMSE_fold_mean']]"
   ]
  }
 ],
 "metadata": {
  "kernelspec": {
   "display_name": "Python 3",
   "language": "python",
   "name": "python3"
  },
  "language_info": {
   "codemirror_mode": {
    "name": "ipython",
    "version": 3
   },
   "file_extension": ".py",
   "mimetype": "text/x-python",
   "name": "python",
   "nbconvert_exporter": "python",
   "pygments_lexer": "ipython3",
   "version": "3.7.4"
  }
 },
 "nbformat": 4,
 "nbformat_minor": 2
}
